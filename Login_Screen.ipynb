{
  "nbformat": 4,
  "nbformat_minor": 0,
  "metadata": {
    "colab": {
      "name": "Login Screen.ipynb",
      "provenance": [],
      "collapsed_sections": [],
      "authorship_tag": "ABX9TyPCkb1+ROLv15/0t84jXOkz",
      "include_colab_link": true
    },
    "kernelspec": {
      "name": "python3",
      "display_name": "Python 3"
    },
    "language_info": {
      "name": "python"
    }
  },
  "cells": [
    {
      "cell_type": "markdown",
      "metadata": {
        "id": "view-in-github",
        "colab_type": "text"
      },
      "source": [
        "<a href=\"https://colab.research.google.com/github/Ashwinkumar-J/LoginScreen_WithSecurityChecks/blob/main/Login_Screen.ipynb\" target=\"_parent\"><img src=\"https://colab.research.google.com/assets/colab-badge.svg\" alt=\"Open In Colab\"/></a>"
      ]
    },
    {
      "cell_type": "code",
      "execution_count": null,
      "metadata": {
        "id": "2tzRT-yXb4uR"
      },
      "outputs": [],
      "source": [
        "print(\"                                                                       Welcome to System                                                             \")\n",
        "print(\"                                                                                                                                              \"         )\n",
        "print(\"                                     Below are the actions Which can be performed, Choose the Number against each Action to get started \"             )\n",
        "print(\"                                                                                                                                              \"         )\n",
        "print(\"                                                                                                                                              \"         )\n",
        "print(\"                                                                      Login     -  1                                                             \"        )\n",
        "print(\"                                                                                                                                              \"         )\n",
        "print(\"                                                                      Register  -  2                                                             \"     )\n",
        "while True:\n",
        "  p=int(input())\n",
        "  if p==1 or p==2:\n",
        "    break\n",
        "  else:\n",
        "    print(\"Invalid Entry, Please Enter the Number Against Action to Exectute\")\n",
        "if p==2:\n",
        "  while True:\n",
        "    a=input('Please Choose your Username(Email id) ')\n",
        "    txt=\".txt\";Name=str(a+txt)\n",
        "    if os.path.exists(Name)!=True:\n",
        "      if a[0]!=\"@\" and a[0].isdigit()!=True and a.find(\"@.\")==-1 and a[0].isalnum()==True and a.find(\"@\")<a.find(\".\") and a.find(\"@\")!=-1 and a.find(\".\")!=-1:\n",
        "        break\n",
        "      else:\n",
        "        print(\"Invalid Email id, Please Enter a Valid Email ID\")\n",
        "    else:\n",
        "      print(\"The Email you are trying to register already exists, Please Login using Option 1, Else provide different Email id\")\n",
        "  print('Please Choose a Password which satisfies the following criteria:')\n",
        "  print(\"1. Password With Minimum length of 5 and Maximum of 16 Digits \")\n",
        "  print(\"2. Password Must have atleast one Special Character\")\n",
        "  print(\"3. Password Must have atleast one Uppercase Character\")\n",
        "  print(\"4. Password Must have atleast one Lowercase Character\")\n",
        "  while True:\n",
        "    b=input()\n",
        "    if len(b)>=5 and len(b)<=16 and b.isalnum()==False and b.islower()==False and b.isupper()==False and b.isalpha()==False:\n",
        "      break\n",
        "    else:\n",
        "      print(\"Password Does not meet the Criteria Required, Please Try again\")\n",
        "  txt=\".txt\";Doc=str(a+txt)\n",
        "  f=open(Doc,'w')\n",
        "  details = {a:b}\n",
        "  import json\n",
        "  with open(Doc, 'w') as convert_file:\n",
        "     convert_file.write(json.dumps(details))\n",
        "     print(\"Account Successfully created\")\n",
        "     f = open(f\"{Doc}\", \"r\")\n",
        "     print(f.read())\n",
        "if p==1:\n",
        "  c=input('Please Enter your Username(Email id) ')\n",
        "  import os\n",
        "  text=\".txt\";File=str(c+text)\n",
        "  if os.path.exists(File)==True:\n",
        "    while True:\n",
        "      d=input(\"Please Enter your Password \")\n",
        "      if d in open(File).read():\n",
        "        print(\"Account Verified, you have Successfully Logged in\")\n",
        "        G = open(f\"{File}\", \"r\")\n",
        "        print(G.read())\n",
        "        break\n",
        "      elif d!=open(File).read():\n",
        "        print(\"Incorrect Password, Please try again, Forgot Password? type 1 to View password and Login \")\n",
        "      elif d==1:\n",
        "        G = open(f\"{File}\", \"r\")\n",
        "        print(G.read())\n",
        "  else:\n",
        "    print(\"You account Does not Exists, Please Register Yourself using Option 2 and Try Again\")"
      ]
    }
  ]
}